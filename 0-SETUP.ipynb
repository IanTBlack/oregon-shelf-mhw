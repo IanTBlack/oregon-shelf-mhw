{
 "cells": [
  {
   "cell_type": "code",
   "execution_count": 2,
   "id": "8f875fcb-74f1-4a35-ac7a-e1956d8a9198",
   "metadata": {
    "tags": []
   },
   "outputs": [],
   "source": [
    "import os\n",
    "\n",
    "from ormhw.core import DATA_DIR, CURATED_DIR"
   ]
  },
  {
   "cell_type": "markdown",
   "id": "755e7953-c652-4b39-844e-e7dd099b9d0e",
   "metadata": {},
   "source": [
    "# Make Necessary Directories"
   ]
  },
  {
   "cell_type": "code",
   "execution_count": 6,
   "id": "ba5ae7db-c147-405d-9aa1-f72e187bc2bb",
   "metadata": {
    "tags": []
   },
   "outputs": [],
   "source": [
    "dirs = [DATA_DIR, CURATED_DIR]\n",
    "for _dir in dirs:\n",
    "    os.makedirs(_dir, exist_ok = True)"
   ]
  },
  {
   "cell_type": "code",
   "execution_count": null,
   "id": "99da9258-4645-4cf6-9342-3cc1faeb62c1",
   "metadata": {},
   "outputs": [],
   "source": []
  }
 ],
 "metadata": {
  "kernelspec": {
   "display_name": "Python (ormhw)",
   "language": "python",
   "name": "ormhw"
  },
  "language_info": {
   "codemirror_mode": {
    "name": "ipython",
    "version": 3
   },
   "file_extension": ".py",
   "mimetype": "text/x-python",
   "name": "python",
   "nbconvert_exporter": "python",
   "pygments_lexer": "ipython3",
   "version": "3.12.1"
  }
 },
 "nbformat": 4,
 "nbformat_minor": 5
}
