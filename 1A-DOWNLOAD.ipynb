{
 "cells": [
  {
   "cell_type": "code",
   "execution_count": 1,
   "id": "0c25c719-ceed-44a4-9b35-3bfbc35c92b3",
   "metadata": {
    "tags": []
   },
   "outputs": [],
   "source": [
    "from datetime import datetime\n",
    "import fsspec\n",
    "import numpy as np\n",
    "import os\n",
    "import requests\n",
    "from requests.compat import urljoin\n",
    "import shutil\n",
    "import urllib.request\n",
    "\n",
    "from ormhw.core import DATA_DIR\n",
    "from ormhw.blobtracker import get_blobtracker"
   ]
  },
  {
   "cell_type": "markdown",
   "id": "2d1c2eaf-bfa7-4c4c-aa62-16a989868028",
   "metadata": {
    "tags": []
   },
   "source": [
    "## Download CUTI-BEUTI\n",
    "\n",
    "Note: You will need to manually download these files after they are found."
   ]
  },
  {
   "cell_type": "code",
   "execution_count": null,
   "id": "ad3656e2-763c-47d6-8a7e-9e9a05167a82",
   "metadata": {},
   "outputs": [],
   "source": [
    "base = 'https://www.mjacox.com/wp-content/uploads/'\n",
    "\n",
    "# This is a for loop for seeking out cuti/beuti uploads on the mjacox website, since the upload location in the future might not be guaranteed.\n",
    "remote = fsspec.filesystem('http')\n",
    "year = datetime.now().year\n",
    "months = [str(month).zfill(2) for month in range(1, 13,1)]\n",
    "all_files = []\n",
    "for month in months:\n",
    "    url = urljoin(urljoin(base,str(year)) + '/', month + '/')\n",
    "    files = remote.glob(url + '*.nc')\n",
    "    for file in files: \n",
    "        all_files = all_files + files\n",
    "        \n",
    "all_files = np.unique(all_files)\n",
    "cuti_file = [file for file in all_files if 'CUTI_daily' in file][0]\n",
    "beuti_file = [file for file in all_files if 'BEUTI_daily' in file][0]\n",
    "\n",
    "save_directory = os.path.join(DATA_DIR, 'cuti_beuti')\n",
    "os.makedirs(save_directory, exist_ok = True)\n",
    "\n",
    "print(cuti_file)\n",
    "print(beuti_file)"
   ]
  },
  {
   "cell_type": "markdown",
   "id": "578540d6-8630-485d-bacd-7f3cf7a72282",
   "metadata": {},
   "source": [
    "## Download GEBCO"
   ]
  },
  {
   "cell_type": "code",
   "execution_count": 2,
   "id": "214fdc14-703b-43af-a1cd-d90038ea95e7",
   "metadata": {
    "tags": []
   },
   "outputs": [
    {
     "name": "stdout",
     "output_type": "stream",
     "text": [
      "CPU times: user 458 µs, sys: 1.26 ms, total: 1.71 ms\n",
      "Wall time: 1.11 ms\n"
     ]
    }
   ],
   "source": [
    "%%time\n",
    "url = 'https://www.bodc.ac.uk/data/open_download/gebco/gebco_2023/zip/' # GEBCO zip remote location.\n",
    "save_directory = os.path.join(DATA_DIR,'gebco')\n",
    "os.makedirs(save_directory, exist_ok = True) # Make the save directory.\n",
    "save_zip = os.path.join(save_directory,'gebco_2023.zip') # Define save filepath.\n",
    "if not os.path.isfile(save_zip) and not os.path.isfile(os.path.join(save_directory,'GEBCO_2023.nc')):\n",
    "    with requests.get(url, stream = True) as req: # Download zip file.\n",
    "        with open(save_zip, 'wb') as fileobj:\n",
    "            shutil.copyfileobj(req.raw, fileobj)\n",
    "            \n",
    "if os.path.isfile(save_zip):\n",
    "    shutil.unpack_archive(save_zip, save_directory) # Unpack zip file in gebco directory.\n",
    "    os.remove(save_zip)"
   ]
  },
  {
   "cell_type": "markdown",
   "id": "edab92cf-c535-4766-9c38-c4de6db0c9a6",
   "metadata": {},
   "source": [
    "## Download Blobtracker"
   ]
  },
  {
   "cell_type": "code",
   "execution_count": 4,
   "id": "f167dc7f-812f-445c-be15-18e92b4d3ca8",
   "metadata": {
    "tags": []
   },
   "outputs": [
    {
     "name": "stdout",
     "output_type": "stream",
     "text": [
      "CPU times: user 516 µs, sys: 1.4 ms, total: 1.92 ms\n",
      "Wall time: 1.17 ms\n"
     ]
    }
   ],
   "source": [
    "%%time\n",
    "save_directory = os.path.join(DATA_DIR,'blobtracker')\n",
    "os.makedirs(save_directory, exist_ok = True) # Make the save directory.\n",
    "save_filepath = os.path.join(save_directory,'blobtracker.csv')\n",
    "if not os.path.isfile(save_filepath):\n",
    "    data = get_blobtracker()\n",
    "    data.to_csv(save_filepath)"
   ]
  },
  {
   "cell_type": "markdown",
   "id": "bffe6aad-2a6d-4e58-8261-0f8f700b4a95",
   "metadata": {},
   "source": [
    "## Download OISSTV2"
   ]
  },
  {
   "cell_type": "code",
   "execution_count": 3,
   "id": "af5a008d-7b4c-43e3-9733-8e972215574b",
   "metadata": {
    "tags": []
   },
   "outputs": [],
   "source": [
    "def find_remote_files(years: list = range(1981, 2100), ignore_ltm: bool = True):\n",
    "    \"\"\"\n",
    "    Find OISSTV2 daily mean sst files.\n",
    "    \n",
    "    :param years: A list of years to seek associated files. Default is year 1981 to 2100.\n",
    "    :param ignore_ltm: Boolean to filter out long-term mean files. Default is True.\n",
    "    :return: A list of urls for downloading remote files.\n",
    "    \"\"\"\n",
    "    \n",
    "    url = \"https://downloads.psl.noaa.gov/Datasets/noaa.oisst.v2.highres/\"\n",
    "    remote = fsspec.filesystem('https')\n",
    "    files = remote.glob(url + f\"*sst.day.mean*\")\n",
    "    if ignore_ltm is True:\n",
    "        files = [f for f in files if 'ltm' not in f]\n",
    "    files_of_interest = []\n",
    "    for year in years:\n",
    "        files_of_interest += [f for f in files if str(year) in f]\n",
    "    return files_of_interest\n",
    "\n",
    "\n",
    "def download_files(remote_files: list, save_directory: os.path.abspath, overwrite: bool = True, verbose: bool = False):\n",
    "    \n",
    "    \"\"\"\n",
    "    Download remote OISSTV2 files from a supplied list.\n",
    "    \n",
    "    :param remote_files: A list of urls that indicated remote file locations.\n",
    "    :param save_directory: A user defined local directory for saving copies of remote files. \n",
    "    :param overwrite: Indicates whether or not to overwrite previously downloaded files. Default is True.\n",
    "    :param verbose: Indicates whether to print messages. Default is False.\n",
    "    :return: A list of local filepaths containing downloaded data.\n",
    "    \"\"\"\n",
    "    \n",
    "    downloaded_files = []\n",
    "    os.makedirs(save_directory, exist_ok=True)\n",
    "    for remote_file in remote_files:\n",
    "        filename = os.path.basename(remote_file)\n",
    "        filepath = os.path.join(save_directory, filename)\n",
    "        if overwrite is False:\n",
    "            if os.path.isfile(filepath):\n",
    "                continue\n",
    "        with requests.get(remote_file, stream = True) as req:\n",
    "            with open(filepath, 'wb') as fileobj:\n",
    "                shutil.copyfileobj(req.raw, fileobj)\n",
    "                if os.path.isfile(filepath):\n",
    "                    downloaded_files.append(filepath)\n",
    "                    if verbose is True:\n",
    "                        print(f'Downloaded OISSTV2: {filename}')\n",
    "                else:\n",
    "                    raise ConnectionError\n",
    "    return downloaded_files"
   ]
  },
  {
   "cell_type": "code",
   "execution_count": 4,
   "id": "cebd3c52-8c2b-40d6-baea-719a85de0ff4",
   "metadata": {
    "tags": []
   },
   "outputs": [
    {
     "name": "stdout",
     "output_type": "stream",
     "text": [
      "CPU times: user 7.43 s, sys: 6.26 s, total: 13.7 s\n",
      "Wall time: 3min 53s\n"
     ]
    }
   ],
   "source": [
    "%%time\n",
    "years = range(1981, 2100)\n",
    "overwrite = False\n",
    "remote_files = find_remote_files(years)\n",
    "save_directory = os.path.join(DATA_DIR, 'oisstv2')\n",
    "os.makedirs(save_directory, exist_ok = True)\n",
    "downloaded_files = download_files(remote_files, save_directory, overwrite = overwrite)"
   ]
  },
  {
   "cell_type": "code",
   "execution_count": null,
   "id": "2e48a21c-f51c-4c75-98c7-f4268649e4c9",
   "metadata": {},
   "outputs": [],
   "source": []
  }
 ],
 "metadata": {
  "kernelspec": {
   "display_name": "Python (ormhw)",
   "language": "python",
   "name": "ormhw"
  },
  "language_info": {
   "codemirror_mode": {
    "name": "ipython",
    "version": 3
   },
   "file_extension": ".py",
   "mimetype": "text/x-python",
   "name": "python",
   "nbconvert_exporter": "python",
   "pygments_lexer": "ipython3",
   "version": "3.12.1"
  }
 },
 "nbformat": 4,
 "nbformat_minor": 5
}
