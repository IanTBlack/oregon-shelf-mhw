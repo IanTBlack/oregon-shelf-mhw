{
 "cells": [
  {
   "cell_type": "code",
   "execution_count": 1,
   "id": "0c25c719-ceed-44a4-9b35-3bfbc35c92b3",
   "metadata": {
    "tags": []
   },
   "outputs": [],
   "source": [
    "from datetime import datetime\n",
    "import fsspec\n",
    "import numpy as np\n",
    "from requests.compat import urljoin"
   ]
  },
  {
   "cell_type": "markdown",
   "id": "2d1c2eaf-bfa7-4c4c-aa62-16a989868028",
   "metadata": {
    "tags": []
   },
   "source": [
    "## Download CUTI-BEUTI\n",
    "\n",
    "Note: You will need to manually download these files after they are found. It is recommended that you put them in the `~/data/cuti_beuti` directory."
   ]
  },
  {
   "cell_type": "code",
   "execution_count": 2,
   "id": "ad3656e2-763c-47d6-8a7e-9e9a05167a82",
   "metadata": {},
   "outputs": [
    {
     "name": "stdout",
     "output_type": "stream",
     "text": [
      "https://www.mjacox.com/wp-content/uploads/2024/03/CUTI_daily.nc\n",
      "https://www.mjacox.com/wp-content/uploads/2024/03/BEUTI_daily.nc\n"
     ]
    }
   ],
   "source": [
    "base = 'https://www.mjacox.com/wp-content/uploads/'\n",
    "\n",
    "# This is a for loop for seeking out cuti/beuti uploads on the mjacox website, since the upload location in the future might not be guaranteed.\n",
    "remote = fsspec.filesystem('http')\n",
    "year = datetime.now().year\n",
    "months = [str(month).zfill(2) for month in range(1, 13,1)]\n",
    "all_files = []\n",
    "for month in months:\n",
    "    url = urljoin(urljoin(base,str(year)) + '/', month + '/')\n",
    "    files = remote.glob(url + '*.nc')\n",
    "    for file in files: \n",
    "        all_files = all_files + files\n",
    "        \n",
    "all_files = np.unique(all_files)\n",
    "cuti_file = [file for file in all_files if 'CUTI_daily' in file][0]\n",
    "beuti_file = [file for file in all_files if 'BEUTI_daily' in file][0]\n",
    "\n",
    "print(cuti_file)\n",
    "print(beuti_file)"
   ]
  },
  {
   "cell_type": "code",
   "execution_count": null,
   "id": "2e48a21c-f51c-4c75-98c7-f4268649e4c9",
   "metadata": {},
   "outputs": [],
   "source": []
  }
 ],
 "metadata": {
  "kernelspec": {
   "display_name": "Python (ormhw)",
   "language": "python",
   "name": "ormhw"
  },
  "language_info": {
   "codemirror_mode": {
    "name": "ipython",
    "version": 3
   },
   "file_extension": ".py",
   "mimetype": "text/x-python",
   "name": "python",
   "nbconvert_exporter": "python",
   "pygments_lexer": "ipython3",
   "version": "3.12.1"
  }
 },
 "nbformat": 4,
 "nbformat_minor": 5
}
