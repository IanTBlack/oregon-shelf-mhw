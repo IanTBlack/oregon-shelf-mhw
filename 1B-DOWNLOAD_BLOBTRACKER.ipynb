{
 "cells": [
  {
   "cell_type": "code",
   "execution_count": 1,
   "id": "0c25c719-ceed-44a4-9b35-3bfbc35c92b3",
   "metadata": {
    "tags": []
   },
   "outputs": [],
   "source": [
    "import os\n",
    "\n",
    "from ormhw.core import BLOBTRACKER_DIR, BLOBTRACKER_FP\n",
    "from ormhw.blobtracker import get_blobtracker"
   ]
  },
  {
   "cell_type": "markdown",
   "id": "edab92cf-c535-4766-9c38-c4de6db0c9a6",
   "metadata": {},
   "source": [
    "## Download Blobtracker"
   ]
  },
  {
   "cell_type": "code",
   "execution_count": 2,
   "id": "f167dc7f-812f-445c-be15-18e92b4d3ca8",
   "metadata": {
    "tags": []
   },
   "outputs": [
    {
     "name": "stdout",
     "output_type": "stream",
     "text": [
      "Blobtracker Location: /home/jovyan/data/blobtracker/blobtracker.csv\n",
      "CPU times: user 2.14 ms, sys: 0 ns, total: 2.14 ms\n",
      "Wall time: 1.39 ms\n"
     ]
    }
   ],
   "source": [
    "%%time\n",
    "os.makedirs(BLOBTRACKER_DIR, exist_ok = True) # Make the save directory.\n",
    "if not os.path.isfile(BLOBTRACKER_FP):\n",
    "    data = get_blobtracker()\n",
    "    data.to_csv(BLOBTRACKER_FP)\n",
    "print(f\"Blobtracker Location: {BLOBTRACKER_FP}\")    "
   ]
  },
  {
   "cell_type": "code",
   "execution_count": null,
   "id": "2e48a21c-f51c-4c75-98c7-f4268649e4c9",
   "metadata": {},
   "outputs": [],
   "source": []
  }
 ],
 "metadata": {
  "kernelspec": {
   "display_name": "Python (ormhw)",
   "language": "python",
   "name": "ormhw"
  },
  "language_info": {
   "codemirror_mode": {
    "name": "ipython",
    "version": 3
   },
   "file_extension": ".py",
   "mimetype": "text/x-python",
   "name": "python",
   "nbconvert_exporter": "python",
   "pygments_lexer": "ipython3",
   "version": "3.12.1"
  }
 },
 "nbformat": 4,
 "nbformat_minor": 5
}
