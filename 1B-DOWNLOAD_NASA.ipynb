{
 "cells": [
  {
   "cell_type": "code",
   "execution_count": 1,
   "id": "0c25c719-ceed-44a4-9b35-3bfbc35c92b3",
   "metadata": {
    "tags": []
   },
   "outputs": [],
   "source": [
    "from datetime import datetime\n",
    "import fsspec\n",
    "import numpy as np\n",
    "import os\n",
    "import requests\n",
    "from requests.compat import urljoin\n",
    "import shutil\n",
    "import urllib.request\n",
    "import multiprocessing\n",
    "import subprocess\n",
    "\n",
    "from ormhw.core import DATA_DIR\n"
   ]
  },
  {
   "cell_type": "code",
   "execution_count": 2,
   "id": "bfd71928-c415-44c5-a15a-d45c1e69c447",
   "metadata": {
    "tags": []
   },
   "outputs": [],
   "source": [
    "years = range(2015,2024)\n",
    "years = [2023]\n",
    "def down_nasa(year):\n",
    "    script = '/home/jovyan/oregon-shelf-mhw/download_nasa.py'\n",
    "    arg = str(year)\n",
    "    return subprocess.call(['python',script,arg], shell = False)\n",
    "    "
   ]
  },
  {
   "cell_type": "code",
   "execution_count": 3,
   "id": "3fe3f93e-d347-4877-b16f-986be9168899",
   "metadata": {
    "tags": []
   },
   "outputs": [
    {
     "name": "stdout",
     "output_type": "stream",
     "text": [
      "Found 553 files in 407 ms.\n"
     ]
    }
   ],
   "source": [
    "with multiprocessing.Pool(processes = len(years), maxtasksperchild =1) as pool:\n",
    "    pool.map(down_nasa, years)"
   ]
  },
  {
   "cell_type": "code",
   "execution_count": null,
   "id": "a179ee02-7975-42a9-a42c-7835f6e472e7",
   "metadata": {},
   "outputs": [],
   "source": []
  }
 ],
 "metadata": {
  "kernelspec": {
   "display_name": "Python (ormhw)",
   "language": "python",
   "name": "ormhw"
  },
  "language_info": {
   "codemirror_mode": {
    "name": "ipython",
    "version": 3
   },
   "file_extension": ".py",
   "mimetype": "text/x-python",
   "name": "python",
   "nbconvert_exporter": "python",
   "pygments_lexer": "ipython3",
   "version": "3.12.1"
  }
 },
 "nbformat": 4,
 "nbformat_minor": 5
}
