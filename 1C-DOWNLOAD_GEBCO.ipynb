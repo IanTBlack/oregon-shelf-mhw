{
 "cells": [
  {
   "cell_type": "code",
   "execution_count": 1,
   "id": "0c25c719-ceed-44a4-9b35-3bfbc35c92b3",
   "metadata": {
    "tags": []
   },
   "outputs": [],
   "source": [
    "import os\n",
    "import requests\n",
    "import shutil\n",
    "\n",
    "from ormhw.core import GEBCO_DIR, GEBCO_FP"
   ]
  },
  {
   "cell_type": "markdown",
   "id": "578540d6-8630-485d-bacd-7f3cf7a72282",
   "metadata": {},
   "source": [
    "## Download GEBCO"
   ]
  },
  {
   "cell_type": "code",
   "execution_count": 2,
   "id": "214fdc14-703b-43af-a1cd-d90038ea95e7",
   "metadata": {
    "tags": []
   },
   "outputs": [
    {
     "name": "stdout",
     "output_type": "stream",
     "text": [
      "GEBCO Location: /home/jovyan/data/gebco/GEBCO_2023.nc\n",
      "CPU times: user 269 µs, sys: 941 µs, total: 1.21 ms\n",
      "Wall time: 818 µs\n"
     ]
    }
   ],
   "source": [
    "%%time\n",
    "url = 'https://www.bodc.ac.uk/data/open_download/gebco/gebco_2023/zip/' # GEBCO zip remote location.\n",
    "save_zip = os.path.join(GEBCO_DIR,'gebco_2023.zip') # Define save filepath.\n",
    "if not os.path.isfile(save_zip) and not os.path.isfile(os.path.join(GEBCO_DIR,'GEBCO_2023.nc')):\n",
    "    with requests.get(url, stream = True) as req: # Download zip file.\n",
    "        with open(save_zip, 'wb') as fileobj:\n",
    "            shutil.copyfileobj(req.raw, fileobj)\n",
    "if os.path.isfile(save_zip):\n",
    "    shutil.unpack_archive(save_zip, GEBCO_DIR) # Unpack zip file in gebco directory.\n",
    "    os.remove(save_zip)\n",
    "    \n",
    "if os.path.isfile(GEBCO_FP):\n",
    "    print(f\"GEBCO Location: {GEBCO_FP}\")\n",
    "else:\n",
    "    raise FileNotFoundError"
   ]
  },
  {
   "cell_type": "code",
   "execution_count": null,
   "id": "2e48a21c-f51c-4c75-98c7-f4268649e4c9",
   "metadata": {},
   "outputs": [],
   "source": []
  }
 ],
 "metadata": {
  "kernelspec": {
   "display_name": "Python (ormhw)",
   "language": "python",
   "name": "ormhw"
  },
  "language_info": {
   "codemirror_mode": {
    "name": "ipython",
    "version": 3
   },
   "file_extension": ".py",
   "mimetype": "text/x-python",
   "name": "python",
   "nbconvert_exporter": "python",
   "pygments_lexer": "ipython3",
   "version": "3.12.1"
  }
 },
 "nbformat": 4,
 "nbformat_minor": 5
}
