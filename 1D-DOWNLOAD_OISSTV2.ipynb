{
 "cells": [
  {
   "cell_type": "code",
   "execution_count": 1,
   "id": "0c25c719-ceed-44a4-9b35-3bfbc35c92b3",
   "metadata": {
    "tags": []
   },
   "outputs": [],
   "source": [
    "import fsspec\n",
    "import os\n",
    "import requests\n",
    "import shutil\n",
    "\n",
    "from ormhw.core import OISSTV2_DIR"
   ]
  },
  {
   "cell_type": "markdown",
   "id": "bffe6aad-2a6d-4e58-8261-0f8f700b4a95",
   "metadata": {},
   "source": [
    "## Download OISSTV2"
   ]
  },
  {
   "cell_type": "code",
   "execution_count": 2,
   "id": "af5a008d-7b4c-43e3-9733-8e972215574b",
   "metadata": {
    "tags": []
   },
   "outputs": [],
   "source": [
    "def find_remote_files(years: list = range(1981, 2100), ignore_ltm: bool = True):\n",
    "    \"\"\"\n",
    "    Find OISSTV2 daily mean sst files.\n",
    "    \n",
    "    :param years: A list of years to seek associated files. Default is year 1981 to 2100.\n",
    "    :param ignore_ltm: Boolean to filter out long-term mean files. Default is True.\n",
    "    :return: A list of urls for downloading remote files.\n",
    "    \"\"\"\n",
    "    \n",
    "    url = \"https://downloads.psl.noaa.gov/Datasets/noaa.oisst.v2.highres/\"\n",
    "    remote = fsspec.filesystem('https')\n",
    "    files = remote.glob(url + f\"*sst.day.mean*\")\n",
    "    if ignore_ltm is True:\n",
    "        files = [f for f in files if 'ltm' not in f]\n",
    "    files_of_interest = []\n",
    "    for year in years:\n",
    "        files_of_interest += [f for f in files if str(year) in f]\n",
    "    return files_of_interest\n",
    "\n",
    "\n",
    "def download_files(remote_files: list, save_directory: os.path.abspath = OISSTV2_DIR, overwrite: bool = True, verbose: bool = False):\n",
    "    \n",
    "    \"\"\"\n",
    "    Download remote OISSTV2 files from a supplied list.\n",
    "    \n",
    "    :param remote_files: A list of urls that indicated remote file locations.\n",
    "    :param save_directory: A user defined local directory for saving copies of remote files. \n",
    "    :param overwrite: Indicates whether or not to overwrite previously downloaded files. Default is True.\n",
    "    :param verbose: Indicates whether to print messages. Default is False.\n",
    "    :return: A list of local filepaths containing downloaded data.\n",
    "    \"\"\"\n",
    "    \n",
    "    downloaded_files = []\n",
    "    os.makedirs(save_directory, exist_ok=True)\n",
    "    for remote_file in remote_files:\n",
    "        filename = os.path.basename(remote_file)\n",
    "        filepath = os.path.join(save_directory, filename)\n",
    "        if os.path.isfile(filepath):\n",
    "            downloaded_files.append(filepath)\n",
    "        if overwrite is False:\n",
    "            if os.path.isfile(filepath):\n",
    "                continue\n",
    "        with requests.get(remote_file, stream = True) as req:\n",
    "            with open(filepath, 'wb') as fileobj:\n",
    "                shutil.copyfileobj(req.raw, fileobj)\n",
    "                if os.path.isfile(filepath):\n",
    "                    downloaded_files.append(filepath)\n",
    "                    if verbose is True:\n",
    "                        print(f'Downloaded OISSTV2: {filename}')\n",
    "                else:\n",
    "                    raise ConnectionError\n",
    "    return downloaded_files"
   ]
  },
  {
   "cell_type": "code",
   "execution_count": 4,
   "id": "cebd3c52-8c2b-40d6-baea-719a85de0ff4",
   "metadata": {
    "tags": []
   },
   "outputs": [
    {
     "name": "stdout",
     "output_type": "stream",
     "text": [
      "/home/jovyan/data/oisstv2/sst.day.mean.1981.nc\n",
      "/home/jovyan/data/oisstv2/sst.day.mean.1982.nc\n",
      "/home/jovyan/data/oisstv2/sst.day.mean.1983.nc\n",
      "/home/jovyan/data/oisstv2/sst.day.mean.1984.nc\n",
      "/home/jovyan/data/oisstv2/sst.day.mean.1985.nc\n",
      "/home/jovyan/data/oisstv2/sst.day.mean.1986.nc\n",
      "/home/jovyan/data/oisstv2/sst.day.mean.1987.nc\n",
      "/home/jovyan/data/oisstv2/sst.day.mean.1988.nc\n",
      "/home/jovyan/data/oisstv2/sst.day.mean.1989.nc\n",
      "/home/jovyan/data/oisstv2/sst.day.mean.1990.nc\n",
      "/home/jovyan/data/oisstv2/sst.day.mean.1991.nc\n",
      "/home/jovyan/data/oisstv2/sst.day.mean.1992.nc\n",
      "/home/jovyan/data/oisstv2/sst.day.mean.1993.nc\n",
      "/home/jovyan/data/oisstv2/sst.day.mean.1994.nc\n",
      "/home/jovyan/data/oisstv2/sst.day.mean.1995.nc\n",
      "/home/jovyan/data/oisstv2/sst.day.mean.1996.nc\n",
      "/home/jovyan/data/oisstv2/sst.day.mean.1997.nc\n",
      "/home/jovyan/data/oisstv2/sst.day.mean.1998.nc\n",
      "/home/jovyan/data/oisstv2/sst.day.mean.1999.nc\n",
      "/home/jovyan/data/oisstv2/sst.day.mean.2000.nc\n",
      "/home/jovyan/data/oisstv2/sst.day.mean.2001.nc\n",
      "/home/jovyan/data/oisstv2/sst.day.mean.2002.nc\n",
      "/home/jovyan/data/oisstv2/sst.day.mean.2003.nc\n",
      "/home/jovyan/data/oisstv2/sst.day.mean.2004.nc\n",
      "/home/jovyan/data/oisstv2/sst.day.mean.2005.nc\n",
      "/home/jovyan/data/oisstv2/sst.day.mean.2006.nc\n",
      "/home/jovyan/data/oisstv2/sst.day.mean.2007.nc\n",
      "/home/jovyan/data/oisstv2/sst.day.mean.2008.nc\n",
      "/home/jovyan/data/oisstv2/sst.day.mean.2009.nc\n",
      "/home/jovyan/data/oisstv2/sst.day.mean.2010.nc\n",
      "/home/jovyan/data/oisstv2/sst.day.mean.2011.nc\n",
      "/home/jovyan/data/oisstv2/sst.day.mean.2012.nc\n",
      "/home/jovyan/data/oisstv2/sst.day.mean.2013.nc\n",
      "/home/jovyan/data/oisstv2/sst.day.mean.2014.nc\n",
      "/home/jovyan/data/oisstv2/sst.day.mean.2015.nc\n",
      "/home/jovyan/data/oisstv2/sst.day.mean.2016.nc\n",
      "/home/jovyan/data/oisstv2/sst.day.mean.2017.nc\n",
      "/home/jovyan/data/oisstv2/sst.day.mean.2018.nc\n",
      "/home/jovyan/data/oisstv2/sst.day.mean.2019.nc\n",
      "/home/jovyan/data/oisstv2/sst.day.mean.2020.nc\n",
      "/home/jovyan/data/oisstv2/sst.day.mean.2021.nc\n",
      "/home/jovyan/data/oisstv2/sst.day.mean.2022.nc\n",
      "/home/jovyan/data/oisstv2/sst.day.mean.2023.nc\n",
      "/home/jovyan/data/oisstv2/sst.day.mean.2024.nc\n",
      "CPU times: user 32.4 ms, sys: 423 µs, total: 32.8 ms\n",
      "Wall time: 606 ms\n"
     ]
    }
   ],
   "source": [
    "%%time\n",
    "years = range(1981, 2100)\n",
    "overwrite = False\n",
    "remote_files = find_remote_files(years)\n",
    "downloaded_files = download_files(remote_files, overwrite = overwrite)\n",
    "for file in downloaded_files:\n",
    "    print(file)"
   ]
  },
  {
   "cell_type": "code",
   "execution_count": null,
   "id": "2e48a21c-f51c-4c75-98c7-f4268649e4c9",
   "metadata": {},
   "outputs": [],
   "source": []
  }
 ],
 "metadata": {
  "kernelspec": {
   "display_name": "Python (ormhw)",
   "language": "python",
   "name": "ormhw"
  },
  "language_info": {
   "codemirror_mode": {
    "name": "ipython",
    "version": 3
   },
   "file_extension": ".py",
   "mimetype": "text/x-python",
   "name": "python",
   "nbconvert_exporter": "python",
   "pygments_lexer": "ipython3",
   "version": "3.12.1"
  }
 },
 "nbformat": 4,
 "nbformat_minor": 5
}
