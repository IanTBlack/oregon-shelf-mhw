{
 "cells": [
  {
   "cell_type": "code",
   "execution_count": 1,
   "id": "0c25c719-ceed-44a4-9b35-3bfbc35c92b3",
   "metadata": {
    "tags": []
   },
   "outputs": [],
   "source": [
    "import multiprocessing\n",
    "import subprocess\n"
   ]
  },
  {
   "cell_type": "code",
   "execution_count": 2,
   "id": "bfd71928-c415-44c5-a15a-d45c1e69c447",
   "metadata": {
    "tags": []
   },
   "outputs": [],
   "source": [
    "years = range(2015,2024)\n",
    "\n",
    "def down_nasa(year):\n",
    "    script = '/home/jovyan/oregon-shelf-mhw/download_nasa.py'\n",
    "    arg = str(year)\n",
    "    return subprocess.call(['python',script,arg], shell = False)"
   ]
  },
  {
   "cell_type": "code",
   "execution_count": 3,
   "id": "3fe3f93e-d347-4877-b16f-986be9168899",
   "metadata": {
    "tags": []
   },
   "outputs": [
    {
     "name": "stdout",
     "output_type": "stream",
     "text": [
      "Found 617 files in 512 ms.\n",
      "Found 607 files in 594 ms.\n",
      "Found 604 files in 635 ms.\n",
      "Found 613 files in 816 ms.\n",
      "Found 583 files in 672 ms.\n",
      "Found 613 files in 917 ms.\n",
      "Found 616 files in 742 ms.\n",
      "Found 553 files in 1169 ms.\n",
      "Found 628 files in 1218 ms.\n"
     ]
    }
   ],
   "source": [
    "with multiprocessing.Pool(processes = len(years), maxtasksperchild =1) as pool:\n",
    "    pool.map(down_nasa, years)"
   ]
  },
  {
   "cell_type": "code",
   "execution_count": null,
   "id": "a179ee02-7975-42a9-a42c-7835f6e472e7",
   "metadata": {},
   "outputs": [],
   "source": []
  }
 ],
 "metadata": {
  "kernelspec": {
   "display_name": "Python (ormhw)",
   "language": "python",
   "name": "ormhw"
  },
  "language_info": {
   "codemirror_mode": {
    "name": "ipython",
    "version": 3
   },
   "file_extension": ".py",
   "mimetype": "text/x-python",
   "name": "python",
   "nbconvert_exporter": "python",
   "pygments_lexer": "ipython3",
   "version": "3.12.1"
  }
 },
 "nbformat": 4,
 "nbformat_minor": 5
}
