{
 "cells": [
  {
   "cell_type": "code",
   "execution_count": 1,
   "id": "572b5f5d-02f8-44eb-b50f-127a319e59a3",
   "metadata": {
    "tags": []
   },
   "outputs": [],
   "source": [
    "from datetime import datetime\n",
    "import fsspec\n",
    "from itertools import groupby, repeat\n",
    "from multiprocessing import Pool\n",
    "import matplotlib\n",
    "import matplotlib.pyplot as plt\n",
    "import numpy as np\n",
    "import os\n",
    "import requests\n",
    "import shutil\n",
    "import warnings\n",
    "import xarray as xr\n",
    "import pandas as pd\n",
    "from operator import itemgetter\n",
    "import math\n",
    "\n",
    "from ormhw.core import CE04,CE02,CE01, BBox, DATA_DIR, CURATED_DIR\n",
    "from ormhw.oisstv2 import OISSTV2"
   ]
  },
  {
   "cell_type": "markdown",
   "id": "b1a834d2-7b16-42a6-9511-c61532f05384",
   "metadata": {},
   "source": [
    "## OISSTV2 Helper Functions"
   ]
  },
  {
   "cell_type": "code",
   "execution_count": 2,
   "id": "9ab8e01d-539a-40ad-970d-20b3e84798fe",
   "metadata": {
    "tags": []
   },
   "outputs": [],
   "source": [
    "def group_events(subds, diff = '2D'):\n",
    "    subds = subds.where(subds.gte == 1, drop = True)\n",
    "    subds = subds.drop_vars('depth')\n",
    "    df = subds.to_dataframe().reset_index()\n",
    "    \n",
    "    dt = df.time\n",
    "    day = pd.Timedelta('1d')\n",
    "    in_block = ((dt - dt.shift(-1)).abs() == day) | (dt.diff() == day)\n",
    "    filt = df.loc[in_block]\n",
    "    breaks = filt['time'].diff() != day\n",
    "    groups = breaks.cumsum()\n",
    "    df['group'] = groups\n",
    "    df = df.dropna()\n",
    "     \n",
    "    new_df = pd.DataFrame()\n",
    "    for group in np.unique(df.group):\n",
    "        subdf = df[df.group == group]\n",
    "        if len(subdf) < 5:\n",
    "            category = 'spike'\n",
    "        else:\n",
    "            category = 'mhw'\n",
    "        start = subdf.time.min()\n",
    "        end = subdf.time.max()\n",
    "\n",
    "        d = {'Ts': [start], 'Te': [end], 'group': [group],'type':[category]}\n",
    "        new_df = pd.concat([new_df,pd.DataFrame(d)])\n",
    "    new_df = new_df.reset_index(drop = True)\n",
    "    \n",
    "    spikes = new_df[new_df.type == 'spike']\n",
    "    mhws = new_df[new_df.type == 'mhw']\n",
    "    mhws = mhws.reset_index(drop = True)\n",
    "    \n",
    "    \n",
    "    ndf = mhws.groupby(((mhws.Ts  - mhws.Te.shift(1)) > pd.Timedelta('2D')).cumsum()).agg({'Ts':'min', 'Te':'max'})\n",
    "    ndflen = len(ndf)\n",
    "    while True:\n",
    "        ndf = ndf.groupby(((ndf.Ts  - ndf.Te.shift(1)) > pd.Timedelta('2D')).cumsum()).agg({'Ts':'min', 'Te':'max'})\n",
    "        if len(ndf) == ndflen:\n",
    "            break\n",
    "        else:\n",
    "            ndflen = len(ndf)\n",
    "            \n",
    "            \n",
    "    ndf['type'] = 'mhw'\n",
    "    ndf['D'] = (ndf.Te-ndf.Ts).dt.days + 1\n",
    "    \n",
    "    \n",
    "    \n",
    "    spikes = spikes.drop('group',axis = 1)\n",
    "    spikes['D'] = (spikes.Te-spikes.Ts).dt.days + 1\n",
    "\n",
    "    cdf = pd.concat([ndf, spikes])\n",
    "    \n",
    "    return ndf, spikes\n",
    "    "
   ]
  },
  {
   "cell_type": "markdown",
   "id": "f78530be-0bf1-4d26-abc5-11191a76bdde",
   "metadata": {},
   "source": [
    "## Curate OISSTV2 Data"
   ]
  },
  {
   "cell_type": "code",
   "execution_count": 6,
   "id": "b1554479-90cf-4128-b7ae-0564a423b7b1",
   "metadata": {
    "tags": []
   },
   "outputs": [
    {
     "name": "stdout",
     "output_type": "stream",
     "text": [
      "CPU times: user 5min 22s, sys: 23.4 s, total: 5min 46s\n",
      "Wall time: 6min 42s\n"
     ]
    }
   ],
   "source": [
    "%%time\n",
    "oisstv2 = OISSTV2()\n",
    "local_files = oisstv2.find_local_files()\n",
    "\n",
    "ds = oisstv2.import_files(local_files, bounding_box = BBox)\n",
    "ds.to_netcdf(f\"{CURATED_DIR}/sst.nc\")\n",
    "\n",
    "dsc = oisstv2.build_climatology(ds, window = 11)\n",
    "dsc.to_netcdf(f\"{CURATED_DIR}/sst_clim_w11.nc\")\n",
    "\n",
    "dsp = oisstv2.build_percentile(ds, window = 11)\n",
    "dsp.to_netcdf(f\"{CURATED_DIR}/sst_90th_w11.nc\")\n",
    "\n",
    "dsgte = oisstv2.mask_gte(ds,dsp,years = range(2014, 2024))\n",
    "dsgte.to_netcdf(f\"{CURATED_DIR}/sst_mhw_mask.nc\")"
   ]
  },
  {
   "cell_type": "code",
   "execution_count": 7,
   "id": "c632a3a2-369e-476a-af74-8b701c91e2b9",
   "metadata": {
    "tags": []
   },
   "outputs": [],
   "source": [
    "sites = ['CE01','CE02','CE04']\n",
    "locs = [CE01, CE02, CE04]\n",
    "for site in sites:\n",
    "    idx = sites.index(site)\n",
    "    loc = locs[idx]\n",
    "    subds = dsgte.sel(latitude = loc.lat, longitude = loc.lon, method = 'nearest')\n",
    "    mhws, spikes = group_events(subds)\n",
    "    mhws.to_csv(os.path.join(CURATED_DIR, f'mhws_{site.lower()}.csv'))\n",
    "    spikes.to_csv( os.path.join(CURATED_DIR, f'spikes_{site.lower()}.csv'))"
   ]
  },
  {
   "cell_type": "code",
   "execution_count": 8,
   "id": "4e45ace4-ccb6-4c23-aab6-3bd835bfebd5",
   "metadata": {
    "tags": []
   },
   "outputs": [],
   "source": [
    "\n",
    "def mhw_cell_stats(subds):\n",
    "    years = range(2015,2024)\n",
    "    agg_ds = xr.Dataset()\n",
    "    agg_ds = agg_ds.assign_coords({'latitude': subds.latitude, 'longitude': subds.longitude,'year': years})\n",
    "    try:\n",
    "        mhws, spikes = group_events(subds)\n",
    "        mhw_days_list = []\n",
    "        num_events_list = []\n",
    "        total_days_list = []\n",
    "        ratio_list = []\n",
    "        for year in range(2015, 2024):\n",
    "            bdt = datetime(year,7,9)\n",
    "            edt = datetime(year,10,8,23,59,59)\n",
    "            total_days = (edt - bdt).days\n",
    "            df = mhws[(mhws.Te >= bdt) & (mhws.Ts <= edt)]\n",
    "            df = df.reset_index(drop = True)\n",
    "\n",
    "            total_dtr = pd.date_range(bdt, edt)\n",
    "            flags = []\n",
    "            for day in total_dtr:\n",
    "                flag = 0\n",
    "                for idx, row in df.iterrows():\n",
    "                    mhw_dtr = pd.date_range(row.Ts, row.Te)\n",
    "                    if day in mhw_dtr:\n",
    "                        flag = 1\n",
    "                        break  \n",
    "                flags.append(flag)\n",
    "            total_days = len(total_dtr)\n",
    "            mhw_days = len([v for v in flags if v == 1])\n",
    "\n",
    "            num_events = len(df)\n",
    "            ratio = mhw_days/total_days\n",
    "\n",
    "            mhw_days_list.append(mhw_days)\n",
    "            num_events_list.append(num_events)\n",
    "            total_days_list.append(total_days)\n",
    "            ratio_list.append(ratio)\n",
    "    except:\n",
    "        mhw_days_list = [np.nan] * len(years)\n",
    "        num_events_list = [np.nan] * len(years)\n",
    "        total_days_list = [np.nan] * len(years)\n",
    "        ratio_list = [np.nan] * len(years)\n",
    "    agg_ds['mhw_days'] = (['year'], mhw_days_list)\n",
    "    agg_ds['total_days'] = (['year'], total_days_list)\n",
    "    agg_ds['num_events'] = (['year'], num_events_list)\n",
    "    agg_ds['ratio'] = (['year'], ratio_list)\n",
    "    agg_ds = agg_ds.assign_coords({'latitude': [agg_ds.latitude], 'longitude': [agg_ds.longitude]})\n",
    "    return agg_ds"
   ]
  },
  {
   "cell_type": "code",
   "execution_count": 9,
   "id": "74c56613-3a45-49cf-a917-c225f903ddf0",
   "metadata": {},
   "outputs": [],
   "source": [
    "ds = xr.open_dataset(os.path.join(CURATED_DIR, 'sst.nc'))\n",
    "dsc = xr.open_dataset(os.path.join(CURATED_DIR, 'sst_clim_w11.nc'))\n",
    "dsp = xr.open_dataset(os.path.join(CURATED_DIR, 'sst_90th_w11.nc'))\n",
    "dsgte = xr.open_dataset(os.path.join(CURATED_DIR, 'sst_mhw_mask.nc'))"
   ]
  },
  {
   "cell_type": "code",
   "execution_count": 10,
   "id": "486614a3-4a43-4d9f-b79a-33e64857189b",
   "metadata": {
    "tags": []
   },
   "outputs": [],
   "source": [
    "latitudes = dsgte.latitude.values\n",
    "longitudes = dsgte.longitude.values"
   ]
  },
  {
   "cell_type": "code",
   "execution_count": 11,
   "id": "6043e0e8-2c6d-4801-929e-64b785640301",
   "metadata": {
    "tags": []
   },
   "outputs": [
    {
     "name": "stdout",
     "output_type": "stream",
     "text": [
      "CPU times: user 33min 52s, sys: 1min 43s, total: 35min 36s\n",
      "Wall time: 35min 33s\n"
     ]
    }
   ],
   "source": [
    "%%time\n",
    "ds_list = []\n",
    "for latitude in latitudes:\n",
    "    for longitude in longitudes:\n",
    "        _ds = mhw_cell_stats(dsgte.sel(latitude = latitude, longitude = longitude, method ='nearest'))\n",
    "        _ds = _ds.assign_coords({'latitude':_ds.latitude,'longitude':_ds.longitude})\n",
    "        ds_list.append(_ds)\n",
    "mhw_spatial = xr.combine_by_coords(ds_list)\n",
    "mhw_spatial.to_netcdf(os.path.join(CURATED_DIR, 'mhw_spatial_stats.nc'))"
   ]
  },
  {
   "cell_type": "code",
   "execution_count": null,
   "id": "c9fc49d4-53c2-4762-bc38-31f58566c223",
   "metadata": {},
   "outputs": [],
   "source": []
  }
 ],
 "metadata": {
  "kernelspec": {
   "display_name": "Python (ormhw)",
   "language": "python",
   "name": "ormhw"
  },
  "language_info": {
   "codemirror_mode": {
    "name": "ipython",
    "version": 3
   },
   "file_extension": ".py",
   "mimetype": "text/x-python",
   "name": "python",
   "nbconvert_exporter": "python",
   "pygments_lexer": "ipython3",
   "version": "3.12.1"
  }
 },
 "nbformat": 4,
 "nbformat_minor": 5
}
