{
 "cells": [
  {
   "cell_type": "code",
   "execution_count": 6,
   "id": "c952d9e7-88f0-4577-90e1-4d79b9fc40a4",
   "metadata": {
    "tags": []
   },
   "outputs": [],
   "source": [
    "from datetime import datetime\n",
    "import os\n",
    "\n",
    "from ooijh import CTD, FLORT\n",
    "\n",
    "from ormhw.core import CURATED_DIR"
   ]
  },
  {
   "cell_type": "markdown",
   "id": "e6b19487-cead-49a7-a947-4d98118d83d1",
   "metadata": {},
   "source": [
    "# Aggregate CTD"
   ]
  },
  {
   "cell_type": "code",
   "execution_count": 7,
   "id": "b40e0a8d-8824-4e61-91c1-1788879b3261",
   "metadata": {
    "tags": []
   },
   "outputs": [
    {
     "name": "stdout",
     "output_type": "stream",
     "text": [
      "CPU times: user 300 ms, sys: 41.2 ms, total: 341 ms\n",
      "Wall time: 340 ms\n"
     ]
    }
   ],
   "source": [
    "%%time\n",
    "sites = ['CE04OSSM', 'CE02SHSM', 'CE01ISSM']\n",
    "for site in sites:\n",
    "    node = 'RID'\n",
    "    bdt = datetime(2014,1,1)\n",
    "    edt = datetime(2023,12,31,23,59,59)\n",
    "    inst = CTD(site, node, begin_datetime = bdt, end_datetime = edt)\n",
    "    save_filepath = os.path.join(CURATED_DIR,f\"{site}_CTD_7m.nc\")\n",
    "    if os.path.isfile(save_filepath):\n",
    "        continue\n",
    "    ds = inst.get_data()\n",
    "    dsr = ds.resample({'time':'1d'}).mean()\n",
    "    dsr.to_netcdf(save_filepath)"
   ]
  },
  {
   "cell_type": "markdown",
   "id": "ea9c498b-79df-4f9c-ab7d-d881a417ff71",
   "metadata": {},
   "source": [
    "## Aggregate FLORT"
   ]
  },
  {
   "cell_type": "code",
   "execution_count": 8,
   "id": "d1e8e57c-0c4d-4399-a698-962d102b5bd0",
   "metadata": {
    "tags": []
   },
   "outputs": [
    {
     "name": "stdout",
     "output_type": "stream",
     "text": [
      "CPU times: user 2min 54s, sys: 6min 21s, total: 9min 15s\n",
      "Wall time: 10min 11s\n"
     ]
    }
   ],
   "source": [
    "%%time\n",
    "sites = ['CE04OSSM', 'CE02SHSM', 'CE01ISSM']\n",
    "for site in sites:\n",
    "    node = 'RID'\n",
    "    bdt = datetime(2014,1,1)\n",
    "    edt = datetime(2023,12,31,23,59,59)\n",
    "    inst = FLORT(site, node, begin_datetime = bdt, end_datetime = edt)\n",
    "    save_filepath = os.path.join(CURATED_DIR,f\"{site}_FLORT_7m.nc\")\n",
    "    if os.path.isfile(save_filepath):\n",
    "        continue\n",
    "    ds = inst.get_data()\n",
    "    dsr = ds.resample({'time':'1d'}).mean()\n",
    "    dsr.to_netcdf(save_filepath)"
   ]
  },
  {
   "cell_type": "code",
   "execution_count": null,
   "id": "d80df4e7-e5d8-408d-a56d-9c085b4e7b0a",
   "metadata": {},
   "outputs": [],
   "source": []
  }
 ],
 "metadata": {
  "kernelspec": {
   "display_name": "Python (ormhw)",
   "language": "python",
   "name": "ormhw"
  },
  "language_info": {
   "codemirror_mode": {
    "name": "ipython",
    "version": 3
   },
   "file_extension": ".py",
   "mimetype": "text/x-python",
   "name": "python",
   "nbconvert_exporter": "python",
   "pygments_lexer": "ipython3",
   "version": "3.12.1"
  }
 },
 "nbformat": 4,
 "nbformat_minor": 5
}
