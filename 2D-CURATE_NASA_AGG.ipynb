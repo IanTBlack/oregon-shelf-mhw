{
 "cells": [
  {
   "cell_type": "code",
   "execution_count": 1,
   "id": "0fc6160a-53e8-4d75-8f5f-22f959dd4ff8",
   "metadata": {
    "tags": []
   },
   "outputs": [],
   "source": [
    "from datetime import datetime\n",
    "import fsspec\n",
    "import os\n",
    "import re\n",
    "import xarray as xr\n",
    "\n",
    "from ormhw.core import DATA_DIR"
   ]
  },
  {
   "cell_type": "code",
   "execution_count": 2,
   "id": "8af5d06c-33bb-420a-a01c-8a382b5d52b6",
   "metadata": {
    "tags": []
   },
   "outputs": [],
   "source": [
    "grid_dir = os.path.join(DATA_DIR,'nasa/L2_GRIDDED')"
   ]
  },
  {
   "cell_type": "code",
   "execution_count": 3,
   "id": "0f81583b-553c-4248-b52e-b73bc0b6bfaa",
   "metadata": {
    "tags": []
   },
   "outputs": [],
   "source": [
    "years = range(2015,2024)\n",
    "local = fsspec.filesystem('file')\n",
    "for year in years:\n",
    "    savefp = f\"/home/jovyan/data/nasa/oc_{year}.nc\"\n",
    "    if os.path.isfile(savefp):\n",
    "        continue\n",
    "    gridded_files = local.glob(grid_dir + f'/oc_{year}*.nc')\n",
    "    ds_list = []\n",
    "    for filepath in gridded_files:\n",
    "        day = re.findall(r'(\\d{4}-\\d{2}-\\d{2})',filepath)[0]\n",
    "        dt = datetime.strptime(day,'%Y-%m-%d')\n",
    "        ds = xr.open_dataset(filepath)\n",
    "        ds = ds.assign_coords({'time':[dt]})\n",
    "        ds_list.append(ds)\n",
    "    mds = xr.combine_by_coords(ds_list)\n",
    "    mds = mds.sel(time = slice(datetime(year,7,9),datetime(year,10,8)))\n",
    "    mds.to_netcdf(savefp)"
   ]
  },
  {
   "cell_type": "code",
   "execution_count": 4,
   "id": "5ccee8a5-2b74-4a3c-b7e1-2a481f0c1174",
   "metadata": {},
   "outputs": [],
   "source": [
    "ds_list = []\n",
    "for year in years:\n",
    "    _ds = xr.open_dataset(f\"/home/jovyan/data/nasa/oc_{year}.nc\")\n",
    "    ds_list.append(_ds) \n",
    "mds = xr.combine_by_coords(ds_list)"
   ]
  },
  {
   "cell_type": "code",
   "execution_count": 6,
   "id": "14d8ffda-7016-47fa-95f4-4562a865fde2",
   "metadata": {
    "tags": []
   },
   "outputs": [],
   "source": [
    "mds = mds.sel(latitude = slice(39,51),longitude = slice(-128,-123.5))"
   ]
  },
  {
   "cell_type": "code",
   "execution_count": 8,
   "id": "e8f2befb-6c3c-4d5a-b621-c6297a9673ec",
   "metadata": {
    "tags": []
   },
   "outputs": [],
   "source": [
    "mds.to_netcdf(f\"/home/jovyan/data/nasa/oc_2015-2023.nc\")"
   ]
  }
 ],
 "metadata": {
  "kernelspec": {
   "display_name": "Python (ormhw)",
   "language": "python",
   "name": "ormhw"
  },
  "language_info": {
   "codemirror_mode": {
    "name": "ipython",
    "version": 3
   },
   "file_extension": ".py",
   "mimetype": "text/x-python",
   "name": "python",
   "nbconvert_exporter": "python",
   "pygments_lexer": "ipython3",
   "version": "3.12.1"
  }
 },
 "nbformat": 4,
 "nbformat_minor": 5
}
