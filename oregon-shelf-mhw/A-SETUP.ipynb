{
 "cells": [
  {
   "cell_type": "markdown",
   "id": "118722b3-4aad-4bfd-964b-13b4c3827836",
   "metadata": {
    "tags": []
   },
   "source": [
    "# Preface\n",
    "\n",
    "Many of the provided notebooks use custom functions which have limits baked into them. If you would like to adapt the code for a larger region of interest or for a more specific time-series, you will need to modify those functions to suite your needs."
   ]
  },
  {
   "cell_type": "markdown",
   "id": "99f6e72b-7b49-4933-bf7b-926a84a2d62f",
   "metadata": {},
   "source": [
    "# Setup"
   ]
  },
  {
   "cell_type": "markdown",
   "id": "95fefa84-63c1-457e-bf6a-b802f516d5d7",
   "metadata": {},
   "source": [
    "## NETRC\n",
    "\n",
    "The `requests` module is used extensively in the provided notebooks and modules. By default, the requests module will check your user folder .netrc file for credentials.\n",
    "You will need to add NASA EarthData and OOI credentials to this .netrc file, replacing the `<user>` and `<password>` with your own credentials. If the step is skipped, then you will be unable to download data.\n",
    "\n",
    "```\n",
    "machine urs.earthdata.nasa.gov\n",
    "login <user>\n",
    "password <password>\n",
    "\n",
    "machine ooinet.oceanobservatories.org\n",
    "login <user>\n",
    "password <password>\n",
    "```"
   ]
  },
  {
   "cell_type": "markdown",
   "id": "079551a2-4fdd-4b8e-9d6c-f76a2afe736f",
   "metadata": {},
   "source": [
    "## Required Python Packages\n",
    "\n",
    "The following cell will install the required packages via pip if they are not already installed. \n",
    "Python 3.10 or greater is recommended. If using the OOI JupyterHub, you will need to re-run this notebook each time your Hub resets."
   ]
  },
  {
   "cell_type": "code",
   "execution_count": 1,
   "id": "b74eeb26-c2ab-45c3-bbf9-e2435f934c95",
   "metadata": {
    "tags": []
   },
   "outputs": [
    {
     "name": "stdout",
     "output_type": "stream",
     "text": [
      "Collecting lxml\n",
      "  Using cached lxml-4.9.3-cp311-cp311-manylinux_2_28_x86_64.whl (7.9 MB)\n",
      "Installing collected packages: lxml\n",
      "Successfully installed lxml-4.9.3\n",
      "Collecting gsw\n",
      "  Using cached gsw-3.6.17-cp311-cp311-manylinux_2_17_x86_64.manylinux2014_x86_64.whl (2.4 MB)\n",
      "Requirement already satisfied: numpy>=1.21 in /opt/conda/lib/python3.11/site-packages (from gsw) (1.24.3)\n",
      "Installing collected packages: gsw\n",
      "Successfully installed gsw-3.6.17\n",
      "Collecting netCDF4\n",
      "  Using cached netCDF4-1.6.4-cp311-cp311-manylinux_2_17_x86_64.manylinux2014_x86_64.whl (5.4 MB)\n",
      "Collecting cftime (from netCDF4)\n",
      "  Using cached cftime-1.6.2-cp311-cp311-manylinux_2_17_x86_64.manylinux2014_x86_64.whl (1.3 MB)\n",
      "Requirement already satisfied: certifi in /opt/conda/lib/python3.11/site-packages (from netCDF4) (2023.5.7)\n",
      "Requirement already satisfied: numpy in /opt/conda/lib/python3.11/site-packages (from netCDF4) (1.24.3)\n",
      "Installing collected packages: cftime, netCDF4\n",
      "Successfully installed cftime-1.6.2 netCDF4-1.6.4\n",
      "Collecting xarray\n",
      "  Using cached xarray-2023.8.0-py3-none-any.whl (1.0 MB)\n",
      "Requirement already satisfied: numpy>=1.21 in /opt/conda/lib/python3.11/site-packages (from xarray) (1.24.3)\n",
      "Requirement already satisfied: pandas>=1.4 in /opt/conda/lib/python3.11/site-packages (from xarray) (2.0.2)\n",
      "Requirement already satisfied: packaging>=21.3 in /opt/conda/lib/python3.11/site-packages (from xarray) (23.1)\n",
      "Requirement already satisfied: python-dateutil>=2.8.2 in /opt/conda/lib/python3.11/site-packages (from pandas>=1.4->xarray) (2.8.2)\n",
      "Requirement already satisfied: pytz>=2020.1 in /opt/conda/lib/python3.11/site-packages (from pandas>=1.4->xarray) (2023.3)\n",
      "Requirement already satisfied: tzdata>=2022.1 in /opt/conda/lib/python3.11/site-packages (from pandas>=1.4->xarray) (2023.3)\n",
      "Requirement already satisfied: six>=1.5 in /opt/conda/lib/python3.11/site-packages (from python-dateutil>=2.8.2->pandas>=1.4->xarray) (1.16.0)\n",
      "Installing collected packages: xarray\n",
      "Successfully installed xarray-2023.8.0\n"
     ]
    }
   ],
   "source": [
    "import importlib\n",
    "import subprocess\n",
    "import sys\n",
    "import os\n",
    "\n",
    "packages = ['fsspec','lxml','gsw','matplotlib','netCDF4', 'numpy', 'pandas','scipy', 'xarray']  \n",
    "\n",
    "for package in packages:\n",
    "    if importlib.util.find_spec(package) is None:\n",
    "        subprocess.check_call([sys.executable, '-m' ,'pip','install',package])"
   ]
  },
  {
   "cell_type": "code",
   "execution_count": null,
   "id": "742dd29c-c193-47f8-bea5-21f3dd1374e6",
   "metadata": {},
   "outputs": [],
   "source": []
  }
 ],
 "metadata": {
  "kernelspec": {
   "display_name": "Python 3 (ipykernel)",
   "language": "python",
   "name": "python3"
  },
  "language_info": {
   "codemirror_mode": {
    "name": "ipython",
    "version": 3
   },
   "file_extension": ".py",
   "mimetype": "text/x-python",
   "name": "python",
   "nbconvert_exporter": "python",
   "pygments_lexer": "ipython3",
   "version": "3.11.3"
  }
 },
 "nbformat": 4,
 "nbformat_minor": 5
}
