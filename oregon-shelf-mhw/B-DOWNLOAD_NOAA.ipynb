{
 "cells": [
  {
   "cell_type": "markdown",
   "id": "79e78c47-11aa-4f61-80f9-308ccd27f586",
   "metadata": {
    "tags": []
   },
   "source": [
    "# Download NOAA Datasets"
   ]
  },
  {
   "cell_type": "code",
   "execution_count": 1,
   "id": "6f2421ab-7127-4343-9dcd-aba2954245ea",
   "metadata": {},
   "outputs": [],
   "source": [
    "from ormhw.noaa import download_oisstv2_sst_mean, download_blobtracker_data, download_srtm30"
   ]
  },
  {
   "cell_type": "markdown",
   "id": "bea7c34b-81ab-49c1-bd52-45917d8f5c86",
   "metadata": {},
   "source": [
    "## Download OISSTV2 Data"
   ]
  },
  {
   "cell_type": "code",
   "execution_count": 2,
   "id": "3d70d713-91f4-4558-8b45-9b4ae8f97f5b",
   "metadata": {},
   "outputs": [
    {
     "name": "stdout",
     "output_type": "stream",
     "text": [
      "CPU times: user 2.17 ms, sys: 0 ns, total: 2.17 ms\n",
      "Wall time: 8.76 ms\n"
     ]
    }
   ],
   "source": [
    "%%time\n",
    "years = range(1983,2023)\n",
    "download_oisstv2_sst_mean(years)"
   ]
  },
  {
   "cell_type": "markdown",
   "id": "4bb5574f-ebea-476c-8045-5c73b378eb60",
   "metadata": {},
   "source": [
    "## Download Blobtracker Data"
   ]
  },
  {
   "cell_type": "code",
   "execution_count": 3,
   "id": "ed278905-c5e4-450f-ab5e-55f26d5b5591",
   "metadata": {},
   "outputs": [
    {
     "name": "stdout",
     "output_type": "stream",
     "text": [
      "CPU times: user 238 µs, sys: 0 ns, total: 238 µs\n",
      "Wall time: 524 µs\n"
     ]
    }
   ],
   "source": [
    "%%time\n",
    "download_blobtracker_data()"
   ]
  },
  {
   "cell_type": "markdown",
   "id": "e7ba30e9-e71b-40d3-9f05-665ae7270f1f",
   "metadata": {},
   "source": [
    "## Download SRTM30 Topography Data"
   ]
  },
  {
   "cell_type": "code",
   "execution_count": 4,
   "id": "ab76cde4-fe3c-4446-a1ae-47e4598c6195",
   "metadata": {},
   "outputs": [
    {
     "name": "stdout",
     "output_type": "stream",
     "text": [
      "CPU times: user 61 µs, sys: 196 µs, total: 257 µs\n",
      "Wall time: 636 µs\n"
     ]
    }
   ],
   "source": [
    "%%time\n",
    "download_srtm30()"
   ]
  }
 ],
 "metadata": {
  "kernelspec": {
   "display_name": "Python 3 (ipykernel)",
   "language": "python",
   "name": "python3"
  },
  "language_info": {
   "codemirror_mode": {
    "name": "ipython",
    "version": 3
   },
   "file_extension": ".py",
   "mimetype": "text/x-python",
   "name": "python",
   "nbconvert_exporter": "python",
   "pygments_lexer": "ipython3",
   "version": "3.11.3"
  }
 },
 "nbformat": 4,
 "nbformat_minor": 5
}
