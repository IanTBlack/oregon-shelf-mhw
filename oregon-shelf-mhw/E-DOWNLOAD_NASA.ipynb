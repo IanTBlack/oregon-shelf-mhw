{
 "cells": [
  {
   "cell_type": "markdown",
   "metadata": {},
   "source": [
    "# Download NASA MODIS-Aqua Data"
   ]
  },
  {
   "cell_type": "code",
   "execution_count": 1,
   "metadata": {
    "collapsed": false,
    "jupyter": {
     "outputs_hidden": false
    },
    "pycharm": {
     "is_executing": true
    }
   },
   "outputs": [],
   "source": [
    "from datetime import datetime\n",
    "import os\n",
    "import pandas as pd\n",
    "import time\n",
    "\n",
    "from ormhw.nasa import find_oc_files, download_oc_files, grid_data\n",
    "from ormhw.transitions import CBR"
   ]
  },
  {
   "cell_type": "code",
   "execution_count": 2,
   "metadata": {
    "tags": []
   },
   "outputs": [],
   "source": [
    "overwrite = False"
   ]
  },
  {
   "cell_type": "code",
   "execution_count": 3,
   "metadata": {},
   "outputs": [
    {
     "name": "stdout",
     "output_type": "stream",
     "text": [
      "Found 0 files in 465 ms.\n",
      "No data for 2020-08-16.\n",
      "Found 1 files in 3620 ms.\n",
      "Failed to Grid: 2020-08-17\n",
      "Found 0 files in 2310 ms.\n",
      "No data for 2020-08-18.\n",
      "Found 1 files in 4207 ms.\n",
      "Failed to Grid: 2020-08-19\n",
      "Found 0 files in 361 ms.\n",
      "No data for 2020-08-21.\n",
      "Found 1 files in 2823 ms.\n",
      "Failed to Grid: 2020-08-22\n",
      "Found 0 files in 558 ms.\n",
      "No data for 2020-08-25.\n",
      "Found 0 files in 2125 ms.\n",
      "No data for 2020-08-29.\n",
      "Found 0 files in 377 ms.\n",
      "No data for 2020-09-01.\n",
      "Found 3 files in 5265 ms.\n",
      "Failed to Grid: 2020-09-02\n",
      "Found 0 files in 433 ms.\n",
      "No data for 2021-09-16.\n",
      "CPU times: user 2.38 s, sys: 418 ms, total: 2.79 s\n",
      "Wall time: 34.3 s\n"
     ]
    }
   ],
   "source": [
    "%%time\n",
    "\n",
    "years = range(2015, 2023)\n",
    "for year in years:\n",
    "    start = datetime.strptime(f\"{year}-{180}\",'%Y-%j')  \n",
    "    end = datetime.strptime(f\"{year}-{290}\",'%Y-%j')\n",
    "    dtr = pd.date_range(start, end)\n",
    "    for dt in dtr:\n",
    "        downloaded_files = None\n",
    "        fp = f\"{os.path.expanduser('~')}/oregon-shelf-mhw/data/nasa/oc_{dt.strftime('%Y-%m-%d')}.nc\"\n",
    "        if os.path.isfile(fp) and overwrite is False:\n",
    "            continue\n",
    "        items = find_oc_files(dt)\n",
    "        if items is None:\n",
    "            continue\n",
    "        try:\n",
    "            downloaded_files = download_oc_files(items,overwrite = overwrite)\n",
    "        except:\n",
    "            print(f\"Failed to Download: {dt.strftime('%Y-%m-%d')}\")\n",
    "        if downloaded_files is not None:\n",
    "            try:\n",
    "                new_file = grid_data(downloaded_files, dt, delete_originals_after_gridding = True)\n",
    "            except:\n",
    "                print(f\"Failed to Grid: {dt.strftime('%Y-%m-%d')}\")   \n",
    "        else:\n",
    "            print(f\"Failed to Grid: {dt.strftime('%Y-%m-%d')}\")"
   ]
  },
  {
   "cell_type": "code",
   "execution_count": null,
   "metadata": {},
   "outputs": [],
   "source": []
  }
 ],
 "metadata": {
  "kernelspec": {
   "display_name": "Python 3 (ipykernel)",
   "language": "python",
   "name": "python3"
  },
  "language_info": {
   "codemirror_mode": {
    "name": "ipython",
    "version": 3
   },
   "file_extension": ".py",
   "mimetype": "text/x-python",
   "name": "python",
   "nbconvert_exporter": "python",
   "pygments_lexer": "ipython3",
   "version": "3.11.3"
  }
 },
 "nbformat": 4,
 "nbformat_minor": 4
}
