{
 "cells": [
  {
   "cell_type": "markdown",
   "id": "e36490f6-2cc9-41c5-8ee2-7f5ce7cc2006",
   "metadata": {},
   "source": [
    "# Download OOI Data\n",
    "Check if the user is on the OOI JupyterHub or a personal machine.."
   ]
  },
  {
   "cell_type": "code",
   "execution_count": 1,
   "id": "21e97eec-f8c3-402f-923a-315e165ee8cb",
   "metadata": {
    "tags": []
   },
   "outputs": [
    {
     "ename": "SystemExit",
     "evalue": "Given that your user is jovyan, it is assummed you are using the OOI JupyterHub. Thus there no need to download OOI data.",
     "output_type": "error",
     "traceback": [
      "An exception has occurred, use %tb to see the full traceback.\n",
      "\u001b[0;31mSystemExit\u001b[0m\u001b[0;31m:\u001b[0m Given that your user is jovyan, it is assummed you are using the OOI JupyterHub. Thus there no need to download OOI data.\n"
     ]
    },
    {
     "name": "stderr",
     "output_type": "stream",
     "text": [
      "/opt/conda/lib/python3.11/site-packages/IPython/core/interactiveshell.py:3516: UserWarning: To exit: use 'exit', 'quit', or Ctrl-D.\n",
      "  warn(\"To exit: use 'exit', 'quit', or Ctrl-D.\", stacklevel=1)\n"
     ]
    }
   ],
   "source": [
    "import os\n",
    "import sys\n",
    "if 'jovyan' in os.path.expanduser('~'):\n",
    "    msg = 'Given that your user is jovyan, it is assummed you are using the OOI JupyterHub. Thus there no need to download OOI data.'\n",
    "    sys.exit(msg)\n",
    "else:\n",
    "    from datetime import datetime, timezone\n",
    "    from ormhw.ooi import THREDDS"
   ]
  },
  {
   "cell_type": "markdown",
   "id": "e18ef61a-66ae-49c6-a836-0b913fea6a4a",
   "metadata": {},
   "source": [
    "# Download Data If Not Using OOI JupyterHub"
   ]
  },
  {
   "cell_type": "code",
   "execution_count": null,
   "id": "5f6d0c30-1ba2-4a37-ab0a-574f465bf7eb",
   "metadata": {
    "tags": []
   },
   "outputs": [],
   "source": [
    "years = range(2015,2023)"
   ]
  },
  {
   "cell_type": "markdown",
   "id": "afd14f19-58a1-4d43-af24-679ffb8ababe",
   "metadata": {},
   "source": [
    "## Download CE04 Data"
   ]
  },
  {
   "cell_type": "code",
   "execution_count": null,
   "id": "41f9b9c4-e849-4b23-b778-eaf9b4bf0c6d",
   "metadata": {},
   "outputs": [],
   "source": [
    "%%capture\n",
    "for year in years:\n",
    "    bdt = datetime(year,7,1)\n",
    "    edt = datetime(year,10,10)\n",
    "    \n",
    "    # Mooring Data\n",
    "    THREDDS('CE04','SBD','METBK','metbk_a_dcl', bdt, edt).download_files(overwrite = False)\n",
    "    THREDDS('CE04','RID','FLORT','flort', bdt, edt).download_files(overwrite = False)\n",
    "    THREDDS('CE04', 'RID', 'NUTNR','suna', bdt, edt).download_files(overwrite = False)\n",
    "\n",
    "    # Profiler Data\n",
    "    THREDDS('CE04', 'SF', 'CTD','ctd', bdt, edt).download_files(overwrite = False)\n",
    "    THREDDS('CE04', 'SF', 'FLORT','flort', bdt, edt).download_files(overwrite = False)"
   ]
  },
  {
   "cell_type": "markdown",
   "id": "77723ed7-02a7-4a53-a930-501fff043c69",
   "metadata": {},
   "source": [
    "## Download CE02 Data"
   ]
  },
  {
   "cell_type": "code",
   "execution_count": null,
   "id": "d98c571e-cba4-4500-b53b-e801b5a53f1d",
   "metadata": {},
   "outputs": [],
   "source": [
    "%%capture\n",
    "for year in years:\n",
    "    bdt = datetime(year,7,1)\n",
    "    edt = datetime(year,10,10)\n",
    "    \n",
    "    # Mooring Data\n",
    "    THREDDS('CE02','SBD','METBK','metbk_a_dcl', bdt, edt).download_files(overwrite = False)\n",
    "    THREDDS('CE02','RID','FLORT','flort', bdt, edt).download_files(overwrite = False)\n",
    "    THREDDS('CE02', 'RID', 'NUTNR','suna', bdt, edt).download_files(overwrite = False)\n",
    "\n",
    "    # Profiler Data\n",
    "    THREDDS('CE02', 'SP', 'CTD','ctd', bdt, edt).download_files(overwrite = False)\n",
    "    THREDDS('CE02', 'SP', 'FLORT','flort', bdt, edt).download_files(overwrite = False)\n",
    "    THREDDS('CE02', 'SP', 'NUTNR','suna', bdt, edt).download_files(overwrite = False)"
   ]
  },
  {
   "cell_type": "markdown",
   "id": "03997ef7-5ee3-417b-894a-25b18b62c430",
   "metadata": {},
   "source": [
    "# Download CE01 Data"
   ]
  },
  {
   "cell_type": "code",
   "execution_count": null,
   "id": "0cd2e6a4-8f07-4058-8f24-2f9280129863",
   "metadata": {},
   "outputs": [],
   "source": [
    "%%capture\n",
    "\n",
    "for year in years:\n",
    "    bdt = datetime(year,7,1)\n",
    "    edt = datetime(year,10,10)\n",
    "    \n",
    "    # Mooring Data\n",
    "    THREDDS('CE01','SBD','CTD','ctd', bdt, edt).download_files(overwrite = False)\n",
    "    THREDDS('CE01','RID','FLORT','flort', bdt, edt).download_files(overwrite = False)\n",
    "    THREDDS('CE01', 'RID', 'NUTNR','suna', bdt, edt).download_files(overwrite = False)\n",
    "\n",
    "    # Profiler Data\n",
    "    THREDDS('CE01', 'SP', 'CTD','ctd', bdt, edt).download_files(overwrite = False)\n",
    "    THREDDS('CE01', 'SP', 'FLORT','flort', bdt, edt).download_files(overwrite = False)\n",
    "    THREDDS('CE01', 'SP', 'NUTNR','suna', bdt, edt).download_files(overwrite = False)"
   ]
  },
  {
   "cell_type": "code",
   "execution_count": null,
   "id": "3c0caa54-e323-4a3e-8049-46090b92a8d1",
   "metadata": {},
   "outputs": [],
   "source": []
  }
 ],
 "metadata": {
  "kernelspec": {
   "display_name": "Python 3 (ipykernel)",
   "language": "python",
   "name": "python3"
  },
  "language_info": {
   "codemirror_mode": {
    "name": "ipython",
    "version": 3
   },
   "file_extension": ".py",
   "mimetype": "text/x-python",
   "name": "python",
   "nbconvert_exporter": "python",
   "pygments_lexer": "ipython3",
   "version": "3.11.3"
  }
 },
 "nbformat": 4,
 "nbformat_minor": 5
}
